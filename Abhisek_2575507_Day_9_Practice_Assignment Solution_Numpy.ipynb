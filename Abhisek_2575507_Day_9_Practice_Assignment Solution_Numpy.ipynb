{
 "cells": [
  {
   "cell_type": "markdown",
   "id": "ddeee424",
   "metadata": {},
   "source": [
    "# Numpy Assignment :"
   ]
  },
  {
   "cell_type": "markdown",
   "id": "66693dbb",
   "metadata": {},
   "source": [
    "# 1.Create a 3x3x3 array with random values"
   ]
  },
  {
   "cell_type": "code",
   "execution_count": 7,
   "id": "614be67c",
   "metadata": {},
   "outputs": [
    {
     "name": "stdout",
     "output_type": "stream",
     "text": [
      "[[[ 7 19 87]\n",
      "  [85 92 96]\n",
      "  [35 10 23]]\n",
      "\n",
      " [[57 51 81]\n",
      "  [13 87 41]\n",
      "  [98 65 82]]\n",
      "\n",
      " [[91 71 79]\n",
      "  [88 14 50]\n",
      "  [92 70 88]]]\n"
     ]
    }
   ],
   "source": [
    "# random values of integer types\n",
    "import numpy as np\n",
    "\n",
    "x = np.random.randint(1,100,(3,3,3))\n",
    "print(x)"
   ]
  },
  {
   "cell_type": "code",
   "execution_count": 97,
   "id": "162573bf",
   "metadata": {},
   "outputs": [
    {
     "name": "stdout",
     "output_type": "stream",
     "text": [
      "[[[0.31781654 0.43922328 0.98520063]\n",
      "  [0.49536158 0.4779798  0.33781956]\n",
      "  [0.97208758 0.52301483 0.15688033]]\n",
      "\n",
      " [[0.84684868 0.63606829 0.15746345]\n",
      "  [0.13331504 0.38037933 0.46047921]\n",
      "  [0.59379509 0.85235726 0.1891608 ]]\n",
      "\n",
      " [[0.939698   0.45742859 0.83653136]\n",
      "  [0.94128284 0.49827069 0.6616531 ]\n",
      "  [0.66110386 0.86024691 0.82096555]]]\n"
     ]
    }
   ],
   "source": [
    "# in float\n",
    "\n",
    "import numpy as np\n",
    "\n",
    "x = np.random.random((3,3,3))\n",
    "\n",
    "print(x)"
   ]
  },
  {
   "cell_type": "markdown",
   "id": "ac1f5098",
   "metadata": {},
   "source": [
    "# 2.Create a 5x5 matrix with values 1,2,3,4 just below the diagonal"
   ]
  },
  {
   "cell_type": "code",
   "execution_count": 34,
   "id": "4c5076ff",
   "metadata": {},
   "outputs": [
    {
     "name": "stdout",
     "output_type": "stream",
     "text": [
      "[[0. 0. 0. 0. 0.]\n",
      " [1. 0. 0. 0. 0.]\n",
      " [0. 2. 0. 0. 0.]\n",
      " [0. 0. 3. 0. 0.]\n",
      " [0. 0. 0. 4. 0.]]\n"
     ]
    }
   ],
   "source": [
    "import numpy as np\n",
    "\n",
    "# Create a 5x5 matrix filled with zeros\n",
    "matrix = np.zeros((5, 5))\n",
    "\n",
    "# Define the values to be placed just below the diagonal\n",
    "values = np.array([1, 2, 3, 4])\n",
    "\n",
    "# Fill the values just below the diagonal\n",
    "for i in range(1, 5):\n",
    "    matrix[i, i-1] = values[i-1]\n",
    "\n",
    "print(matrix)\n"
   ]
  },
  {
   "cell_type": "markdown",
   "id": "5ecbd8f6",
   "metadata": {},
   "source": [
    "# 3.Create a 8x8 matrix and fill it with a checkerboard pattern"
   ]
  },
  {
   "cell_type": "code",
   "execution_count": 42,
   "id": "b893f51e",
   "metadata": {},
   "outputs": [
    {
     "name": "stdout",
     "output_type": "stream",
     "text": [
      "Checkerboard pattern:\n",
      "[[1 0 1 0 1 0 1 0]\n",
      " [0 1 0 1 0 1 0 1]\n",
      " [1 0 1 0 1 0 1 0]\n",
      " [0 1 0 1 0 1 0 1]\n",
      " [1 0 1 0 1 0 1 0]\n",
      " [0 1 0 1 0 1 0 1]\n",
      " [1 0 1 0 1 0 1 0]\n",
      " [0 1 0 1 0 1 0 1]]\n"
     ]
    }
   ],
   "source": [
    "import numpy as np\n",
    "\n",
    "# Create an 8x8 matrix filled with zeros\n",
    "matrix = np.ones((8, 8), dtype=int)\n",
    "\n",
    "# Use slicing to set alternating elements to 1\n",
    "matrix[1::2, ::2] = 0  # Odd rows, even columns\n",
    "matrix[::2, 1::2] = 0  # Even rows, odd columns\n",
    "\n",
    "print(\"Checkerboard pattern:\")\n",
    "\n",
    "# Print the checkerboard pattern matrix\n",
    "print(matrix)\n"
   ]
  },
  {
   "cell_type": "markdown",
   "id": "f7df57d8",
   "metadata": {},
   "source": [
    "# 4.Normalize a 5x5 random matrix"
   ]
  },
  {
   "cell_type": "code",
   "execution_count": 50,
   "id": "5192d89f",
   "metadata": {},
   "outputs": [
    {
     "name": "stdout",
     "output_type": "stream",
     "text": [
      "Original Matrix:\n",
      "[[8 3 6 4 3]\n",
      " [6 6 2 5 8]\n",
      " [5 9 1 7 3]\n",
      " [6 2 6 8 7]\n",
      " [2 9 3 4 3]]\n",
      "\n",
      "Normalized Matrix:\n",
      "[[ 1.26463396 -0.87157206  0.41015156 -0.44433085 -0.87157206]\n",
      " [ 0.41015156  0.41015156 -1.29881326 -0.01708965  1.26463396]\n",
      " [-0.01708965  1.69187517 -1.72605447  0.83739276 -0.87157206]\n",
      " [ 0.41015156 -1.29881326  0.41015156  1.26463396  0.83739276]\n",
      " [-1.29881326  1.69187517 -0.87157206 -0.44433085 -0.87157206]]\n"
     ]
    }
   ],
   "source": [
    "import numpy as np\n",
    "\n",
    "# Generate a random 5x5 matrix with values between 0 and 1\n",
    "random_matrix = np.random.randint(1,10,(5, 5))\n",
    "\n",
    "# Calculate the mean and standard deviation of the matrix\n",
    "mean_value = np.mean(random_matrix)\n",
    "std_deviation = np.std(random_matrix)\n",
    "\n",
    "# Normalize the matrix\n",
    "normalized_matrix = (random_matrix - mean_value) / std_deviation\n",
    "\n",
    "print(\"Original Matrix:\")\n",
    "print(random_matrix)\n",
    "print(\"\\nNormalized Matrix:\")\n",
    "print(normalized_matrix)\n"
   ]
  },
  {
   "cell_type": "markdown",
   "id": "fc5eb1ca",
   "metadata": {},
   "source": [
    "# 5.How to find common values between two arrays?"
   ]
  },
  {
   "cell_type": "code",
   "execution_count": 54,
   "id": "2a572296",
   "metadata": {},
   "outputs": [
    {
     "name": "stdout",
     "output_type": "stream",
     "text": [
      "Array1 is:  [1 2 3 4 5]\n",
      "Array2 is:  [3 4 5 6 7]\n",
      "Common values in between these two arrays: [3 4 5]\n"
     ]
    }
   ],
   "source": [
    "import numpy as np\n",
    "\n",
    "\n",
    "array1 = np.array([1, 2, 3, 4, 5])\n",
    "array2 = np.array([3, 4, 5, 6, 7])\n",
    "\n",
    "# Find common values using NumPy's intersect1d function\n",
    "common_values = np.intersect1d(array1, array2)\n",
    "print('Array1 is: ',array1)\n",
    "print('Array2 is: ',array2)\n",
    "\n",
    "print(\"Common values in between these two arrays:\", common_values)\n"
   ]
  },
  {
   "cell_type": "markdown",
   "id": "d17dfeb2",
   "metadata": {},
   "source": [
    "# 6.How to get the dates of yesterday, today and tomorrow?"
   ]
  },
  {
   "cell_type": "code",
   "execution_count": 61,
   "id": "dffbd041",
   "metadata": {},
   "outputs": [
    {
     "name": "stdout",
     "output_type": "stream",
     "text": [
      "Yesterday Date Is: 20/09/2023\n",
      "Today Date Is    : 21/09/2023\n",
      "Tomorrow Date Is : 22/09/2023\n"
     ]
    }
   ],
   "source": [
    "from datetime import datetime, timedelta\n",
    "\n",
    "# Get the current date\n",
    "today = datetime.now()\n",
    "\n",
    "# Calculate the date for yesterday and tomorrow\n",
    "yesterday = today - timedelta(days=1)\n",
    "tomorrow = today + timedelta(days=1)\n",
    "\n",
    "# Format the dates as strings (optional)\n",
    "today_str = today.strftime(\"%d/%m/%Y\")\n",
    "yesterday_str = yesterday.strftime(\"%d/%m/%Y\")\n",
    "tomorrow_str = tomorrow.strftime(\"%d/%m/%Y\")\n",
    "\n",
    "# Print the dates\n",
    "print(\"Yesterday Date Is:\", yesterday_str)\n",
    "print(\"Today Date Is    :\", today_str)\n",
    "print(\"Tomorrow Date Is :\", tomorrow_str)\n"
   ]
  },
  {
   "cell_type": "markdown",
   "id": "0b25cb13",
   "metadata": {},
   "source": [
    "# 7.Consider two random array A and B, check if they are equal."
   ]
  },
  {
   "cell_type": "code",
   "execution_count": 66,
   "id": "7a6d9adf",
   "metadata": {},
   "outputs": [
    {
     "name": "stdout",
     "output_type": "stream",
     "text": [
      "Array1 is:\n",
      " [[0 1 1]\n",
      " [2 0 0]\n",
      " [3 4 3]]\n",
      "Array2 is:\n",
      " [[0 0 4]\n",
      " [4 2 4]\n",
      " [0 2 1]]\n",
      "Arrays A and B are not equal.\n"
     ]
    }
   ],
   "source": [
    "import numpy as np\n",
    "\n",
    "# Create two random arrays A and B\n",
    "array1 = np.random.randint(0, 5, (3, 3))  # Create a 3x3 random integer array with values between 0 and 4\n",
    "array2 = np.random.randint(0, 5, (3, 3))  # Create another 3x3 random integer array\n",
    "\n",
    "print('Array1 is:\\n', array1)\n",
    "print('Array2 is:\\n', array2)\n",
    "\n",
    "# Check if arrays A and B are equal\n",
    "are_equal = np.array_equal(array1, array2)\n",
    "\n",
    "if are_equal:\n",
    "    print(\"Arrays A and B are equal.\")\n",
    "else:\n",
    "    print(\"Arrays A and B are not equal.\")\n"
   ]
  },
  {
   "cell_type": "markdown",
   "id": "db11a62c",
   "metadata": {},
   "source": [
    "# 8.Create random vector of size 10 and replace the maximum value by 0"
   ]
  },
  {
   "cell_type": "code",
   "execution_count": 81,
   "id": "14e79338",
   "metadata": {},
   "outputs": [
    {
     "name": "stdout",
     "output_type": "stream",
     "text": [
      "Random vector with the maximum value replaced by 0 \n",
      "\n",
      "[0.85156365 0.79962968 0.23520586 0.90383269 0.19826679 0.\n",
      " 0.20576717 0.30855369 0.55339218 0.59064583]\n"
     ]
    }
   ],
   "source": [
    "import numpy as np\n",
    "\n",
    "# Create a random vector of size 10\n",
    "random_vector = np.random.rand(10)\n",
    "\n",
    "# Find the index of the maximum value in the vector\n",
    "max_index = np.argmax(random_vector)\n",
    "\n",
    "# Replace the maximum value with 0\n",
    "random_vector[max_index] = 0\n",
    "\n",
    "print(\"Random vector with the maximum value replaced by 0: \\n\")\n",
    "print(random_vector)\n"
   ]
  },
  {
   "cell_type": "markdown",
   "id": "60edd782",
   "metadata": {},
   "source": [
    "# 9.How to print all the values of an array?"
   ]
  },
  {
   "cell_type": "code",
   "execution_count": 8,
   "id": "818d0e9a",
   "metadata": {},
   "outputs": [
    {
     "name": "stdout",
     "output_type": "stream",
     "text": [
      "Enter the number of elements: 5\n",
      "Enter value 1/5: 8\n",
      "Enter value 2/5: 9\n",
      "Enter value 3/5: 7\n",
      "Enter value 4/5: 3\n",
      "Enter value 5/5: 4\n",
      "Array values:\n",
      "8 9 7 3 4 "
     ]
    }
   ],
   "source": [
    "import numpy as np\n",
    "\n",
    "# Take the number of elements as input\n",
    "try:\n",
    "    num_elements = int(input(\"Enter the number of elements: \"))\n",
    "except ValueError:\n",
    "    print(\"Invalid input. Please enter a valid integer.\")\n",
    "    exit()\n",
    "\n",
    "# Initialize an empty list to store the input values\n",
    "input_values = []\n",
    "\n",
    "# Take user input for the array values line by line\n",
    "for i in range(num_elements):\n",
    "    value = input(f\"Enter value {i + 1}/{num_elements}: \")\n",
    "    input_values.append(value)\n",
    "\n",
    "try:\n",
    "    # Convert the input values to a NumPy array of float data type\n",
    "    my_array = np.array(input_values, dtype=np.int32)\n",
    "    \n",
    "    # Print the values of the NumPy array\n",
    "    print(\"Array values:\")\n",
    "    for element in my_array:\n",
    "        print(element,end=\" \")\n",
    "except ValueError:\n",
    "    print(\"Invalid input. Please enter valid numeric values.\")\n"
   ]
  },
  {
   "cell_type": "markdown",
   "id": "9e007342",
   "metadata": {},
   "source": [
    "# 10.Subtract the mean of each row of a matrix"
   ]
  },
  {
   "cell_type": "code",
   "execution_count": 9,
   "id": "c9b3db5f",
   "metadata": {},
   "outputs": [
    {
     "name": "stdout",
     "output_type": "stream",
     "text": [
      "Original Matrix:\n",
      "[[1 2 3]\n",
      " [4 5 6]\n",
      " [7 8 9]]\n",
      "\n",
      "Result Matrix (mean subtracted from each row):\n",
      "[[-1.  0.  1.]\n",
      " [-1.  0.  1.]\n",
      " [-1.  0.  1.]]\n"
     ]
    }
   ],
   "source": [
    "import numpy as np\n",
    "\n",
    "# Create a sample matrix (replace this with your matrix)\n",
    "matrix = np.array([[1, 2, 3],\n",
    "                   [4, 5, 6],\n",
    "                   [7, 8, 9]])\n",
    "\n",
    "# Calculate the mean of each row\n",
    "row_means = np.mean(matrix, axis=1, keepdims=True)\n",
    "\n",
    "# Subtract the row means from the matrix\n",
    "result_matrix = matrix - row_means\n",
    "\n",
    "print(\"Original Matrix:\")\n",
    "print(matrix)\n",
    "\n",
    "print(\"\\nResult Matrix (mean subtracted from each row):\")\n",
    "print(result_matrix)\n"
   ]
  },
  {
   "cell_type": "markdown",
   "id": "893041ef",
   "metadata": {},
   "source": [
    "# 11.Consider a given vector, how to add 1 to each element indexed by a second vector (be careful with repeated indices)?"
   ]
  },
  {
   "cell_type": "code",
   "execution_count": 50,
   "id": "9f3b5049",
   "metadata": {},
   "outputs": [
    {
     "name": "stdout",
     "output_type": "stream",
     "text": [
      "Original Vector:\n",
      "[1. 1. 1. 1. 1. 1. 1. 1. 1. 1.]\n",
      "\n",
      "Unique Indices:\n",
      "[0 1 2 5 6 7 8 9]\n",
      "\n",
      "Final Vector:\n",
      "[2. 2. 2. 1. 1. 2. 2. 2. 2. 2.]\n"
     ]
    }
   ],
   "source": [
    "import numpy as np\n",
    "\n",
    "# Given vector\n",
    "vector = np.ones(10)  # Initialize a vector with all elements as 1\n",
    "\n",
    "# Indices vector (with repeated indices)\n",
    "indices = np.random.randint(0,10, 15)  # Random indices (for illustration)\n",
    "\n",
    "# Print the original vector\n",
    "print(\"Original Vector:\")\n",
    "print(vector)\n",
    "\n",
    "# Create a unique index array to avoid repetition\n",
    "unique_indices = np.unique(indices)\n",
    "\n",
    "# Print the unique indices\n",
    "print(\"\\nUnique Indices:\")\n",
    "print(unique_indices)\n",
    "\n",
    "# Add 1 to each element at the unique indices\n",
    "vector[unique_indices] += 1\n",
    "\n",
    "# Print the final vector\n",
    "print(\"\\nFinal Vector:\")\n",
    "print(vector)\n"
   ]
  },
  {
   "cell_type": "markdown",
   "id": "77b2dfb2",
   "metadata": {},
   "source": [
    "# 12.How to get the diagonal of a dot product?"
   ]
  },
  {
   "cell_type": "code",
   "execution_count": 59,
   "id": "e8c55767",
   "metadata": {},
   "outputs": [
    {
     "name": "stdout",
     "output_type": "stream",
     "text": [
      "Matrix1:\n",
      "[[1 2]\n",
      " [3 4]]\n",
      "\n",
      "Matrix2:\n",
      "[[5 6]\n",
      " [7 8]]\n",
      "\n",
      "Dot Product:\n",
      "[[19 22]\n",
      " [43 50]]\n",
      "\n",
      "Diagonal of Dot Product:\n",
      "[19 50]\n"
     ]
    }
   ],
   "source": [
    "import numpy as np\n",
    "\n",
    "# Create two 2x2 matrices\n",
    "matrix1 = np.array([[1, 2],\n",
    "                    [3, 4]])\n",
    "\n",
    "matrix2 = np.array([[5, 6],\n",
    "                    [7, 8]])\n",
    "\n",
    "# Calculate the dot product\n",
    "dot_product = np.dot(matrix1, matrix2)\n",
    "\n",
    "# Get the diagonal elements of the dot product\n",
    "diagonal = np.diag(dot_product)\n",
    "\n",
    "print(\"Matrix1:\")\n",
    "print(matrix1)\n",
    "\n",
    "print(\"\\nMatrix2:\")\n",
    "print(matrix2)\n",
    "\n",
    "print(\"\\nDot Product:\")\n",
    "print(dot_product)\n",
    "\n",
    "print(\"\\nDiagonal of Dot Product:\")\n",
    "print(diagonal)\n"
   ]
  },
  {
   "cell_type": "markdown",
   "id": "46cd65df",
   "metadata": {},
   "source": [
    "# 13.How to find the most frequent value in an array?"
   ]
  },
  {
   "cell_type": "code",
   "execution_count": 65,
   "id": "c940dd24",
   "metadata": {},
   "outputs": [
    {
     "name": "stdout",
     "output_type": "stream",
     "text": [
      "[3 9 7 2 8 7 7 8 4 0 4 3 0 0 7 1 4 5 5 2]\n",
      "rank: 7\n"
     ]
    }
   ],
   "source": [
    "import numpy as np\n",
    "\n",
    "# Generate an array of 50 random integers between 0 and 9\n",
    "Z = np.random.randint(0, 10, 20)\n",
    "\n",
    "# Print the generated array\n",
    "print(Z)\n",
    "\n",
    "# Use bincount to count occurrences of each integer and find the most frequent one\n",
    "most_frequent = np.bincount(Z).argmax()\n",
    "\n",
    "# Print the rank (most frequent integer)\n",
    "print('rank:', most_frequent)\n"
   ]
  },
  {
   "cell_type": "markdown",
   "id": "6b6be472",
   "metadata": {},
   "source": [
    "# 14.How to get the n largest values of an array"
   ]
  },
  {
   "cell_type": "code",
   "execution_count": 67,
   "id": "690e7e13",
   "metadata": {},
   "outputs": [
    {
     "name": "stdout",
     "output_type": "stream",
     "text": [
      "Enter the value of n: 5\n",
      "The random array is: [21 46 15 50 78 27 23 49 45 36 38 60 43 60 23 81 65 18 25 35]\n",
      "The 5 largest values in the array are: [60 60 78 65 81]\n"
     ]
    }
   ],
   "source": [
    "import numpy as np\n",
    "\n",
    "# Take user input for n\n",
    "n = int(input(\"Enter the value of n: \"))\n",
    "\n",
    "# Generate a random array of integers (you can specify the size)\n",
    "array_size = 20  # Adjust this as needed\n",
    "my_array = np.random.randint(1, 100, array_size)  # Generates random integers between 1 and 99\n",
    "\n",
    "# Use numpy.partition to get the n largest values\n",
    "largest_n_values = np.partition(my_array, -n)[-n:]\n",
    "\n",
    "print(f\"The random array is:\", my_array)\n",
    "print(f\"The {n} largest values in the array are:\", largest_n_values)\n"
   ]
  },
  {
   "cell_type": "markdown",
   "id": "79dc8df7",
   "metadata": {},
   "source": [
    "# 15.How to create a record array from a regular array?"
   ]
  },
  {
   "cell_type": "code",
   "execution_count": 74,
   "id": "06f15ee0",
   "metadata": {},
   "outputs": [
    {
     "name": "stdout",
     "output_type": "stream",
     "text": [
      "[('Alice', 25) ('Bob', 30) ('Charlie', 22)]\n"
     ]
    }
   ],
   "source": [
    "import numpy as np\n",
    "\n",
    "# Create a regular array with data\n",
    "regular_array = np.array([(\"Alice\", 25), (\"Bob\", 30), (\"Charlie\", 22)])\n",
    "\n",
    "# Define the structured data type (dtype) for the record array with separate types for each field\n",
    "dtype = [('name', 'U10'), ('age', int)]\n",
    "\n",
    "# Create an empty record array with the specified dtype\n",
    "record_array = np.empty(len(regular_array), dtype=dtype)\n",
    "\n",
    "# Assign values from the regular array to the record array\n",
    "record_array['name'] = regular_array[:, 0]\n",
    "record_array['age'] = regular_array[:, 1]\n",
    "\n",
    "# Print the record array\n",
    "print(record_array)\n",
    "\n"
   ]
  },
  {
   "cell_type": "markdown",
   "id": "544ec501",
   "metadata": {},
   "source": [
    "# 16.How to swap two rows of an array?"
   ]
  },
  {
   "cell_type": "code",
   "execution_count": 89,
   "id": "103bbe12",
   "metadata": {},
   "outputs": [
    {
     "name": "stdout",
     "output_type": "stream",
     "text": [
      "Original Array is :\n",
      " [[1 4 4]\n",
      " [4 2 1]\n",
      " [1 1 4]]\n",
      "After Swap Array is :\n",
      " [[1 1 4]\n",
      " [4 2 1]\n",
      " [1 4 4]]\n"
     ]
    }
   ],
   "source": [
    "A = np.random.randint(1,5,(3,3))\n",
    "print ('Original Array is :\\n',A)\n",
    "\n",
    "A[[0,2]] = A[[2,0]]\n",
    "\n",
    "print ('After Swap Array is :\\n',A)\n"
   ]
  },
  {
   "cell_type": "markdown",
   "id": "6e4f6eea",
   "metadata": {},
   "source": [
    "# 17.Write python code to reshape to the next dimension of numpy array?\n"
   ]
  },
  {
   "cell_type": "code",
   "execution_count": 96,
   "id": "79453395",
   "metadata": {},
   "outputs": [
    {
     "name": "stdout",
     "output_type": "stream",
     "text": [
      "Original Array:\n",
      "[6 2 4 5 2]\n",
      "Original Array dimension: 1\n",
      "Reshaped Array:\n",
      "[[6]\n",
      " [2]\n",
      " [4]\n",
      " [5]\n",
      " [2]]\n",
      "Reshaped Array dimension: 2\n"
     ]
    }
   ],
   "source": [
    "import numpy as np\n",
    "\n",
    "# Create a 1D array (vector)\n",
    "arr = np.random.randint(1, 10, 5)\n",
    "\n",
    "# Reshape the array to the next dimension (2D)\n",
    "reshaped_arr = arr.reshape((arr.shape[0]), 1)\n",
    "\n",
    "print(\"Original Array:\")\n",
    "print(arr)\n",
    "print(\"Original Array dimension:\",arr.ndim)\n",
    "\n",
    "print(\"Reshaped Array:\")\n",
    "print(reshaped_arr)\n",
    "print(\"Reshaped Array dimension:\",reshaped_arr.ndim)\n"
   ]
  },
  {
   "cell_type": "code",
   "execution_count": null,
   "id": "8dd2e2a6",
   "metadata": {},
   "outputs": [],
   "source": []
  }
 ],
 "metadata": {
  "kernelspec": {
   "display_name": "Python 3 (ipykernel)",
   "language": "python",
   "name": "python3"
  },
  "language_info": {
   "codemirror_mode": {
    "name": "ipython",
    "version": 3
   },
   "file_extension": ".py",
   "mimetype": "text/x-python",
   "name": "python",
   "nbconvert_exporter": "python",
   "pygments_lexer": "ipython3",
   "version": "3.11.4"
  }
 },
 "nbformat": 4,
 "nbformat_minor": 5
}
